{
  "nbformat": 4,
  "nbformat_minor": 0,
  "metadata": {
    "colab": {
      "provenance": []
    },
    "kernelspec": {
      "name": "python3",
      "display_name": "Python 3"
    },
    "language_info": {
      "name": "python"
    }
  },
  "cells": [
    {
      "cell_type": "markdown",
      "source": [
        "# Capstone Project: Analisis Sentimen dan Rangkuman Berita Keuangan Menggunakan AI\n",
        "\n",
        "**Nama:** Anggoro Dwi Prasetyo\n",
        "\n",
        "**Program:** Student Development Initiative - Data Classification and Summarization Using IBM Granite (Hacktiv8)\n",
        "\n",
        "## Pendahuluan\n",
        "\n",
        "Proyek *capstone* ini bertujuan untuk melakukan analisis pada data teks keuangan dengan memanfaatkan teknologi kecerdasan buatan (AI), khususnya *Large Language Models* (LLM). Fokus utama adalah pada dua tugas utama: klasifikasi sentimen dari berita atau frasa keuangan dan pembuatan rangkuman (summarization) dari teks tersebut. Analisis ini menggunakan dataset berita keuangan publik yang diambil dari Kaggle. Melalui proyek ini, akan didemonstrasikan bagaimana AI dapat digunakan untuk menggali wawasan dari data teks, memahami sentimen pasar, dan menyajikan informasi secara ringkas. Hasil dari analisis ini diharapkan dapat memberikan gambaran tentang potensi dan juga tantangan dalam aplikasi AI pada domain keuangan."
      ],
      "metadata": {
        "id": "pv6MUmud6fXF"
      }
    },
    {
      "cell_type": "markdown",
      "source": [
        "## Dataset\n",
        "\n",
        "Dataset yang digunakan dalam proyek ini adalah **\"Sentiment Analysis for Financial News\"** yang berisi koleksi \"Financial PhraseBank\". Dataset ini diperoleh dari Kaggle ([https://www.kaggle.com/datasets/ankurzing/sentiment-analysis-for-financial-news](https://www.kaggle.com/datasets/ankurzing/sentiment-analysis-for-financial-news)).\n",
        "\n",
        "Secara spesifik, file yang digunakan adalah `FinancialPhraseBank/Sentences_AllAgree.txt`. File ini berisi frasa-frasa dari berita keuangan yang telah dianotasi sentimennya (positif, negatif, atau netral) oleh beberapa annotator, dan hanya frasa dimana semua annotator setuju yang disertakan.\n",
        "\n",
        "**Struktur Data:**\n",
        "Dataset terdiri dari dua kolom utama setelah pemrosesan awal:\n",
        "1.  `text`: Berisi frasa atau kalimat dari berita keuangan.\n",
        "2.  `sentiment`: Berisi label sentimen (`positive`, `negative`, `neutral`) untuk teks terkait.\n",
        "\n",
        "Dari output `.info()`, kita melihat bahwa dataset ini memiliki [jumlah baris, misal 2264] entri dan tidak ada nilai null pada kedua kolom, yang menandakan data cukup bersih untuk analisis awal. Distribusi sentimen menunjukkan bahwa sentimen `neutral` adalah yang paling dominan, diikuti oleh `positive`, dan kemudian `negative`."
      ],
      "metadata": {
        "id": "7Vsypq_77N5y"
      }
    },
    {
      "cell_type": "code",
      "execution_count": 1,
      "metadata": {
        "colab": {
          "base_uri": "https://localhost:8080/",
          "height": 89
        },
        "id": "439Tv3JbtIvE",
        "outputId": "7ea40863-53ca-494a-b04e-a904f9d82fbb"
      },
      "outputs": [
        {
          "output_type": "display_data",
          "data": {
            "text/plain": [
              "<IPython.core.display.HTML object>"
            ],
            "text/html": [
              "\n",
              "     <input type=\"file\" id=\"files-24895c71-52e3-4831-ba7d-9e5624a72f43\" name=\"files[]\" multiple disabled\n",
              "        style=\"border:none\" />\n",
              "     <output id=\"result-24895c71-52e3-4831-ba7d-9e5624a72f43\">\n",
              "      Upload widget is only available when the cell has been executed in the\n",
              "      current browser session. Please rerun this cell to enable.\n",
              "      </output>\n",
              "      <script>// Copyright 2017 Google LLC\n",
              "//\n",
              "// Licensed under the Apache License, Version 2.0 (the \"License\");\n",
              "// you may not use this file except in compliance with the License.\n",
              "// You may obtain a copy of the License at\n",
              "//\n",
              "//      http://www.apache.org/licenses/LICENSE-2.0\n",
              "//\n",
              "// Unless required by applicable law or agreed to in writing, software\n",
              "// distributed under the License is distributed on an \"AS IS\" BASIS,\n",
              "// WITHOUT WARRANTIES OR CONDITIONS OF ANY KIND, either express or implied.\n",
              "// See the License for the specific language governing permissions and\n",
              "// limitations under the License.\n",
              "\n",
              "/**\n",
              " * @fileoverview Helpers for google.colab Python module.\n",
              " */\n",
              "(function(scope) {\n",
              "function span(text, styleAttributes = {}) {\n",
              "  const element = document.createElement('span');\n",
              "  element.textContent = text;\n",
              "  for (const key of Object.keys(styleAttributes)) {\n",
              "    element.style[key] = styleAttributes[key];\n",
              "  }\n",
              "  return element;\n",
              "}\n",
              "\n",
              "// Max number of bytes which will be uploaded at a time.\n",
              "const MAX_PAYLOAD_SIZE = 100 * 1024;\n",
              "\n",
              "function _uploadFiles(inputId, outputId) {\n",
              "  const steps = uploadFilesStep(inputId, outputId);\n",
              "  const outputElement = document.getElementById(outputId);\n",
              "  // Cache steps on the outputElement to make it available for the next call\n",
              "  // to uploadFilesContinue from Python.\n",
              "  outputElement.steps = steps;\n",
              "\n",
              "  return _uploadFilesContinue(outputId);\n",
              "}\n",
              "\n",
              "// This is roughly an async generator (not supported in the browser yet),\n",
              "// where there are multiple asynchronous steps and the Python side is going\n",
              "// to poll for completion of each step.\n",
              "// This uses a Promise to block the python side on completion of each step,\n",
              "// then passes the result of the previous step as the input to the next step.\n",
              "function _uploadFilesContinue(outputId) {\n",
              "  const outputElement = document.getElementById(outputId);\n",
              "  const steps = outputElement.steps;\n",
              "\n",
              "  const next = steps.next(outputElement.lastPromiseValue);\n",
              "  return Promise.resolve(next.value.promise).then((value) => {\n",
              "    // Cache the last promise value to make it available to the next\n",
              "    // step of the generator.\n",
              "    outputElement.lastPromiseValue = value;\n",
              "    return next.value.response;\n",
              "  });\n",
              "}\n",
              "\n",
              "/**\n",
              " * Generator function which is called between each async step of the upload\n",
              " * process.\n",
              " * @param {string} inputId Element ID of the input file picker element.\n",
              " * @param {string} outputId Element ID of the output display.\n",
              " * @return {!Iterable<!Object>} Iterable of next steps.\n",
              " */\n",
              "function* uploadFilesStep(inputId, outputId) {\n",
              "  const inputElement = document.getElementById(inputId);\n",
              "  inputElement.disabled = false;\n",
              "\n",
              "  const outputElement = document.getElementById(outputId);\n",
              "  outputElement.innerHTML = '';\n",
              "\n",
              "  const pickedPromise = new Promise((resolve) => {\n",
              "    inputElement.addEventListener('change', (e) => {\n",
              "      resolve(e.target.files);\n",
              "    });\n",
              "  });\n",
              "\n",
              "  const cancel = document.createElement('button');\n",
              "  inputElement.parentElement.appendChild(cancel);\n",
              "  cancel.textContent = 'Cancel upload';\n",
              "  const cancelPromise = new Promise((resolve) => {\n",
              "    cancel.onclick = () => {\n",
              "      resolve(null);\n",
              "    };\n",
              "  });\n",
              "\n",
              "  // Wait for the user to pick the files.\n",
              "  const files = yield {\n",
              "    promise: Promise.race([pickedPromise, cancelPromise]),\n",
              "    response: {\n",
              "      action: 'starting',\n",
              "    }\n",
              "  };\n",
              "\n",
              "  cancel.remove();\n",
              "\n",
              "  // Disable the input element since further picks are not allowed.\n",
              "  inputElement.disabled = true;\n",
              "\n",
              "  if (!files) {\n",
              "    return {\n",
              "      response: {\n",
              "        action: 'complete',\n",
              "      }\n",
              "    };\n",
              "  }\n",
              "\n",
              "  for (const file of files) {\n",
              "    const li = document.createElement('li');\n",
              "    li.append(span(file.name, {fontWeight: 'bold'}));\n",
              "    li.append(span(\n",
              "        `(${file.type || 'n/a'}) - ${file.size} bytes, ` +\n",
              "        `last modified: ${\n",
              "            file.lastModifiedDate ? file.lastModifiedDate.toLocaleDateString() :\n",
              "                                    'n/a'} - `));\n",
              "    const percent = span('0% done');\n",
              "    li.appendChild(percent);\n",
              "\n",
              "    outputElement.appendChild(li);\n",
              "\n",
              "    const fileDataPromise = new Promise((resolve) => {\n",
              "      const reader = new FileReader();\n",
              "      reader.onload = (e) => {\n",
              "        resolve(e.target.result);\n",
              "      };\n",
              "      reader.readAsArrayBuffer(file);\n",
              "    });\n",
              "    // Wait for the data to be ready.\n",
              "    let fileData = yield {\n",
              "      promise: fileDataPromise,\n",
              "      response: {\n",
              "        action: 'continue',\n",
              "      }\n",
              "    };\n",
              "\n",
              "    // Use a chunked sending to avoid message size limits. See b/62115660.\n",
              "    let position = 0;\n",
              "    do {\n",
              "      const length = Math.min(fileData.byteLength - position, MAX_PAYLOAD_SIZE);\n",
              "      const chunk = new Uint8Array(fileData, position, length);\n",
              "      position += length;\n",
              "\n",
              "      const base64 = btoa(String.fromCharCode.apply(null, chunk));\n",
              "      yield {\n",
              "        response: {\n",
              "          action: 'append',\n",
              "          file: file.name,\n",
              "          data: base64,\n",
              "        },\n",
              "      };\n",
              "\n",
              "      let percentDone = fileData.byteLength === 0 ?\n",
              "          100 :\n",
              "          Math.round((position / fileData.byteLength) * 100);\n",
              "      percent.textContent = `${percentDone}% done`;\n",
              "\n",
              "    } while (position < fileData.byteLength);\n",
              "  }\n",
              "\n",
              "  // All done.\n",
              "  yield {\n",
              "    response: {\n",
              "      action: 'complete',\n",
              "    }\n",
              "  };\n",
              "}\n",
              "\n",
              "scope.google = scope.google || {};\n",
              "scope.google.colab = scope.google.colab || {};\n",
              "scope.google.colab._files = {\n",
              "  _uploadFiles,\n",
              "  _uploadFilesContinue,\n",
              "};\n",
              "})(self);\n",
              "</script> "
            ]
          },
          "metadata": {}
        },
        {
          "output_type": "stream",
          "name": "stdout",
          "text": [
            "Saving kaggle.json to kaggle.json\n",
            "-rw------- 1 root root 64 Jun  1 10:03 /root/.kaggle/kaggle.json\n"
          ]
        }
      ],
      "source": [
        "from google.colab import files\n",
        "files.upload() # Pilih file kaggle.json\n",
        "!mkdir -p ~/.kaggle\n",
        "!cp kaggle.json ~/.kaggle/\n",
        "!chmod 600 ~/.kaggle/kaggle.json\n",
        "!ls -l ~/.kaggle/kaggle.json"
      ]
    },
    {
      "cell_type": "code",
      "source": [
        "# Pastikan Anda sudah mengunggah kaggle.json dan mengaturnya\n",
        "!kaggle datasets download -d ankurzing/sentiment-analysis-for-financial-news\n",
        "!unzip sentiment-analysis-for-financial-news.zip"
      ],
      "metadata": {
        "colab": {
          "base_uri": "https://localhost:8080/"
        },
        "id": "W16TnFrFwznD",
        "outputId": "3b419119-6d4e-44c5-f385-11eaa94fe1f5"
      },
      "execution_count": 2,
      "outputs": [
        {
          "output_type": "stream",
          "name": "stdout",
          "text": [
            "Dataset URL: https://www.kaggle.com/datasets/ankurzing/sentiment-analysis-for-financial-news\n",
            "License(s): CC-BY-NC-SA-4.0\n",
            "Downloading sentiment-analysis-for-financial-news.zip to /content\n",
            "  0% 0.00/903k [00:00<?, ?B/s]\n",
            "100% 903k/903k [00:00<00:00, 45.4MB/s]\n",
            "Archive:  sentiment-analysis-for-financial-news.zip\n",
            "replace FinancialPhraseBank/License.txt? [y]es, [n]o, [A]ll, [N]one, [r]ename: y\n",
            "  inflating: FinancialPhraseBank/License.txt  \n",
            "replace FinancialPhraseBank/README.txt? [y]es, [n]o, [A]ll, [N]one, [r]ename: y\n",
            "  inflating: FinancialPhraseBank/README.txt  \n",
            "replace FinancialPhraseBank/Sentences_50Agree.txt? [y]es, [n]o, [A]ll, [N]one, [r]ename: y\n",
            "  inflating: FinancialPhraseBank/Sentences_50Agree.txt  \n",
            "replace FinancialPhraseBank/Sentences_66Agree.txt? [y]es, [n]o, [A]ll, [N]one, [r]ename: y\n",
            "  inflating: FinancialPhraseBank/Sentences_66Agree.txt  \n",
            "replace FinancialPhraseBank/Sentences_75Agree.txt? [y]es, [n]o, [A]ll, [N]one, [r]ename: y\n",
            "  inflating: FinancialPhraseBank/Sentences_75Agree.txt  \n",
            "replace FinancialPhraseBank/Sentences_AllAgree.txt? [y]es, [n]o, [A]ll, [N]one, [r]ename: y\n",
            "  inflating: FinancialPhraseBank/Sentences_AllAgree.txt  \n",
            "  inflating: all-data.csv            \n"
          ]
        }
      ]
    },
    {
      "cell_type": "code",
      "source": [
        "!ls -R"
      ],
      "metadata": {
        "colab": {
          "base_uri": "https://localhost:8080/"
        },
        "id": "AJuIj_S1yUan",
        "outputId": "21b2ee3f-8d78-4ec4-f11a-d51c279289f8"
      },
      "execution_count": 3,
      "outputs": [
        {
          "output_type": "stream",
          "name": "stdout",
          "text": [
            ".:\n",
            "all-data.csv\t     kaggle.json  sentiment-analysis-for-financial-news.zip\n",
            "FinancialPhraseBank  sample_data\n",
            "\n",
            "./FinancialPhraseBank:\n",
            "License.txt  Sentences_50Agree.txt  Sentences_75Agree.txt\n",
            "README.txt   Sentences_66Agree.txt  Sentences_AllAgree.txt\n",
            "\n",
            "./sample_data:\n",
            "anscombe.json\t\t      mnist_test.csv\n",
            "california_housing_test.csv   mnist_train_small.csv\n",
            "california_housing_train.csv  README.md\n"
          ]
        }
      ]
    },
    {
      "cell_type": "code",
      "source": [
        "import pandas as pd\n",
        "\n",
        "file_path = 'FinancialPhraseBank/Sentences_AllAgree.txt'\n",
        "\n",
        "try:\n",
        "    df = pd.read_csv(\n",
        "        file_path,\n",
        "        sep='.@',  # Pemisah antara teks dan sentimen\n",
        "        names=['text', 'sentiment'],  # Memberi nama kolom\n",
        "        encoding='latin-1',  # Encoding file\n",
        "        engine='python'  # Menggunakan engine python untuk pemisah yang lebih kompleks\n",
        "    )\n",
        "\n",
        "    print(\"Berhasil memuat data!\")\n",
        "    print(\"\\n5 data pertama:\")\n",
        "    print(df.head())\n",
        "    print(\"\\nInformasi DataFrame:\")\n",
        "    df.info()\n",
        "    print(\"\\nDistribusi Sentimen:\")\n",
        "    print(df['sentiment'].value_counts())\n",
        "\n",
        "except FileNotFoundError:\n",
        "    print(f\"File di path '{file_path}' tidak ditemukan. Pastikan nama folder dan file sudah benar.\")\n",
        "    df = pd.DataFrame() # Buat DataFrame kosong jika file tidak ditemukan\n",
        "except Exception as e:\n",
        "    print(f\"Terjadi error saat memuat data: {e}\")\n",
        "    df = pd.DataFrame()\n",
        "\n",
        "if df.empty:\n",
        "    print(\"\\n--- Gagal memuat data dari Sentences_AllAgree.txt ---\")\n",
        "    print(\"Mungkin kita bisa coba 'all-data.csv' jika ada. Apakah Anda ingin mencoba memuat 'all-data.csv'?\")"
      ],
      "metadata": {
        "colab": {
          "base_uri": "https://localhost:8080/"
        },
        "id": "56sVyiLZym-9",
        "outputId": "1f1e1e03-19fd-4a61-afb4-f31c072b6f79"
      },
      "execution_count": 4,
      "outputs": [
        {
          "output_type": "stream",
          "name": "stdout",
          "text": [
            "Berhasil memuat data!\n",
            "\n",
            "5 data pertama:\n",
            "                                                text sentiment\n",
            "0  According to Gran , the company has no plans t...   neutral\n",
            "1  For the last quarter of 2010 , Componenta 's n...  positive\n",
            "2  In the third quarter of 2010 , net sales incre...  positive\n",
            "3  Operating profit rose to EUR 13.1 mn from EUR ...  positive\n",
            "4  Operating profit totalled EUR 21.1 mn , up fro...  positive\n",
            "\n",
            "Informasi DataFrame:\n",
            "<class 'pandas.core.frame.DataFrame'>\n",
            "RangeIndex: 2264 entries, 0 to 2263\n",
            "Data columns (total 2 columns):\n",
            " #   Column     Non-Null Count  Dtype \n",
            "---  ------     --------------  ----- \n",
            " 0   text       2264 non-null   object\n",
            " 1   sentiment  2264 non-null   object\n",
            "dtypes: object(2)\n",
            "memory usage: 35.5+ KB\n",
            "\n",
            "Distribusi Sentimen:\n",
            "sentiment\n",
            "neutral     1391\n",
            "positive     570\n",
            "negative     303\n",
            "Name: count, dtype: int64\n"
          ]
        }
      ]
    },
    {
      "cell_type": "code",
      "source": [
        "!pip install transformers"
      ],
      "metadata": {
        "colab": {
          "base_uri": "https://localhost:8080/"
        },
        "id": "L8FiR7rKzCVH",
        "outputId": "cb254f2e-8217-4a3f-a4d9-3b945e3a8ed3"
      },
      "execution_count": 5,
      "outputs": [
        {
          "output_type": "stream",
          "name": "stdout",
          "text": [
            "Requirement already satisfied: transformers in /usr/local/lib/python3.11/dist-packages (4.52.2)\n",
            "Requirement already satisfied: filelock in /usr/local/lib/python3.11/dist-packages (from transformers) (3.18.0)\n",
            "Requirement already satisfied: huggingface-hub<1.0,>=0.30.0 in /usr/local/lib/python3.11/dist-packages (from transformers) (0.31.4)\n",
            "Requirement already satisfied: numpy>=1.17 in /usr/local/lib/python3.11/dist-packages (from transformers) (2.0.2)\n",
            "Requirement already satisfied: packaging>=20.0 in /usr/local/lib/python3.11/dist-packages (from transformers) (24.2)\n",
            "Requirement already satisfied: pyyaml>=5.1 in /usr/local/lib/python3.11/dist-packages (from transformers) (6.0.2)\n",
            "Requirement already satisfied: regex!=2019.12.17 in /usr/local/lib/python3.11/dist-packages (from transformers) (2024.11.6)\n",
            "Requirement already satisfied: requests in /usr/local/lib/python3.11/dist-packages (from transformers) (2.32.3)\n",
            "Requirement already satisfied: tokenizers<0.22,>=0.21 in /usr/local/lib/python3.11/dist-packages (from transformers) (0.21.1)\n",
            "Requirement already satisfied: safetensors>=0.4.3 in /usr/local/lib/python3.11/dist-packages (from transformers) (0.5.3)\n",
            "Requirement already satisfied: tqdm>=4.27 in /usr/local/lib/python3.11/dist-packages (from transformers) (4.67.1)\n",
            "Requirement already satisfied: fsspec>=2023.5.0 in /usr/local/lib/python3.11/dist-packages (from huggingface-hub<1.0,>=0.30.0->transformers) (2025.3.2)\n",
            "Requirement already satisfied: typing-extensions>=3.7.4.3 in /usr/local/lib/python3.11/dist-packages (from huggingface-hub<1.0,>=0.30.0->transformers) (4.13.2)\n",
            "Requirement already satisfied: charset-normalizer<4,>=2 in /usr/local/lib/python3.11/dist-packages (from requests->transformers) (3.4.2)\n",
            "Requirement already satisfied: idna<4,>=2.5 in /usr/local/lib/python3.11/dist-packages (from requests->transformers) (3.10)\n",
            "Requirement already satisfied: urllib3<3,>=1.21.1 in /usr/local/lib/python3.11/dist-packages (from requests->transformers) (2.4.0)\n",
            "Requirement already satisfied: certifi>=2017.4.17 in /usr/local/lib/python3.11/dist-packages (from requests->transformers) (2025.4.26)\n"
          ]
        }
      ]
    },
    {
      "cell_type": "code",
      "source": [
        "from transformers import pipeline\n",
        "import pandas as pd\n",
        "\n",
        "# Muat kembali DataFrame jika sesi Colab terputus atau untuk memastikan\n",
        "# Pastikan path ini masih sesuai dengan struktur file Anda\n",
        "file_path = 'FinancialPhraseBank/Sentences_AllAgree.txt'\n",
        "try:\n",
        "    df = pd.read_csv(\n",
        "        file_path,\n",
        "        sep='.@',\n",
        "        names=['text', 'sentiment'],\n",
        "        encoding='latin-1',\n",
        "        engine='python'\n",
        "    )\n",
        "    print(\"DataFrame berhasil dimuat ulang.\")\n",
        "except FileNotFoundError:\n",
        "    print(f\"File di path '{file_path}' tidak ditemukan. Pastikan file ada.\")\n",
        "    df = pd.DataFrame() # Buat DataFrame kosong jika file tidak ditemukan\n",
        "\n",
        "# Inisialisasi pipeline untuk analisis sentimen\n",
        "# Model default untuk sentiment-analysis biasanya adalah distilbert-base-uncased-finetuned-sst-2-english\n",
        "# yang menghasilkan label 'POSITIVE' atau 'NEGATIVE' dan skor kepercayaan.\n",
        "sentiment_pipeline = pipeline(\"sentiment-analysis\")\n",
        "\n",
        "# Mari kita coba pada beberapa contoh teks dari DataFrame Anda\n",
        "if not df.empty and 'text' in df.columns:\n",
        "    print(\"\\nContoh hasil analisis sentimen dari model:\")\n",
        "    for i in range(min(5, len(df))): # Ambil 5 contoh pertama atau kurang jika data lebih sedikit\n",
        "        text_to_analyze = df['text'].iloc[i]\n",
        "        original_sentiment = df['sentiment'].iloc[i]\n",
        "        result = sentiment_pipeline(text_to_analyze)\n",
        "        print(f\"Teks: {text_to_analyze}\")\n",
        "        print(f\"Sentimen Asli: {original_sentiment}\")\n",
        "        print(f\"Prediksi Model: {result}\")\n",
        "        print(\"---\")\n",
        "else:\n",
        "    print(\"DataFrame kosong atau tidak memiliki kolom 'text'. Pastikan data sudah dimuat dengan benar.\")"
      ],
      "metadata": {
        "colab": {
          "base_uri": "https://localhost:8080/"
        },
        "id": "dXeXVFXfzGwi",
        "outputId": "c7910661-0cbe-4d27-a9f8-285e87aad482"
      },
      "execution_count": 6,
      "outputs": [
        {
          "output_type": "stream",
          "name": "stderr",
          "text": [
            "No model was supplied, defaulted to distilbert/distilbert-base-uncased-finetuned-sst-2-english and revision 714eb0f (https://huggingface.co/distilbert/distilbert-base-uncased-finetuned-sst-2-english).\n",
            "Using a pipeline without specifying a model name and revision in production is not recommended.\n"
          ]
        },
        {
          "output_type": "stream",
          "name": "stdout",
          "text": [
            "DataFrame berhasil dimuat ulang.\n"
          ]
        },
        {
          "output_type": "stream",
          "name": "stderr",
          "text": [
            "/usr/local/lib/python3.11/dist-packages/huggingface_hub/utils/_auth.py:94: UserWarning: \n",
            "The secret `HF_TOKEN` does not exist in your Colab secrets.\n",
            "To authenticate with the Hugging Face Hub, create a token in your settings tab (https://huggingface.co/settings/tokens), set it as secret in your Google Colab and restart your session.\n",
            "You will be able to reuse this secret in all of your notebooks.\n",
            "Please note that authentication is recommended but still optional to access public models or datasets.\n",
            "  warnings.warn(\n",
            "Device set to use cpu\n"
          ]
        },
        {
          "output_type": "stream",
          "name": "stdout",
          "text": [
            "\n",
            "Contoh hasil analisis sentimen dari model:\n",
            "Teks: According to Gran , the company has no plans to move all production to Russia , although that is where the company is growing \n",
            "Sentimen Asli: neutral\n",
            "Prediksi Model: [{'label': 'NEGATIVE', 'score': 0.9927565455436707}]\n",
            "---\n",
            "Teks: For the last quarter of 2010 , Componenta 's net sales doubled to EUR131m from EUR76m for the same period a year earlier , while it moved to a zero pre-tax profit from a pre-tax loss of EUR7m \n",
            "Sentimen Asli: positive\n",
            "Prediksi Model: [{'label': 'NEGATIVE', 'score': 0.9940495491027832}]\n",
            "---\n",
            "Teks: In the third quarter of 2010 , net sales increased by 5.2 % to EUR 205.5 mn , and operating profit by 34.9 % to EUR 23.5 mn \n",
            "Sentimen Asli: positive\n",
            "Prediksi Model: [{'label': 'POSITIVE', 'score': 0.8077540993690491}]\n",
            "---\n",
            "Teks: Operating profit rose to EUR 13.1 mn from EUR 8.7 mn in the corresponding period in 2007 representing 7.7 % of net sales \n",
            "Sentimen Asli: positive\n",
            "Prediksi Model: [{'label': 'NEGATIVE', 'score': 0.775668203830719}]\n",
            "---\n",
            "Teks: Operating profit totalled EUR 21.1 mn , up from EUR 18.6 mn in 2007 , representing 9.7 % of net sales \n",
            "Sentimen Asli: positive\n",
            "Prediksi Model: [{'label': 'NEGATIVE', 'score': 0.8628909587860107}]\n",
            "---\n"
          ]
        }
      ]
    },
    {
      "cell_type": "code",
      "source": [
        "from transformers import pipeline\n",
        "import pandas as pd\n",
        "\n",
        "# Muat kembali DataFrame jika sesi Colab terputus atau untuk memastikan\n",
        "# Pastikan path ini masih sesuai dengan struktur file Anda\n",
        "file_path = 'FinancialPhraseBank/Sentences_AllAgree.txt'\n",
        "try:\n",
        "    df = pd.read_csv(\n",
        "        file_path,\n",
        "        sep='.@',\n",
        "        names=['text', 'sentiment'],\n",
        "        encoding='latin-1',\n",
        "        engine='python'\n",
        "    )\n",
        "    print(\"DataFrame berhasil dimuat ulang untuk summarization.\")\n",
        "except FileNotFoundError:\n",
        "    print(f\"File di path '{file_path}' tidak ditemukan. Pastikan file ada.\")\n",
        "    df = pd.DataFrame()\n",
        "\n",
        "# Inisialisasi pipeline untuk summarization\n",
        "# Menggunakan model t5-small karena relatif cepat dan cukup baik untuk demonstrasi\n",
        "try:\n",
        "    summarizer = pipeline(\"summarization\", model=\"t5-small\")\n",
        "    print(\"Pipeline summarization berhasil diinisialisasi.\")\n",
        "except Exception as e:\n",
        "    print(f\"Error saat inisialisasi pipeline summarization: {e}\")\n",
        "    summarizer = None\n",
        "\n",
        "# Mari kita coba pada beberapa contoh teks dari DataFrame Anda\n",
        "# Kita akan pilih beberapa kalimat yang sedikit lebih panjang jika ada,\n",
        "# atau beberapa kalimat acak untuk demonstrasi.\n",
        "if summarizer and not df.empty and 'text' in df.columns:\n",
        "    print(\"\\nContoh hasil summarization dari model:\")\n",
        "\n",
        "    # Ambil beberapa contoh (misalnya 3 contoh)\n",
        "    # Anda bisa memilih contoh spesifik jika mau\n",
        "    sample_texts_for_summarization = []\n",
        "    if len(df) >= 3:\n",
        "        # Coba cari kalimat yang agak panjang untuk contoh, jika tidak ada ambil saja\n",
        "        # Sort by length and take the longest ones if desired, but for now, simple iloc\n",
        "        indices_to_summarize = df['text'].str.len().nlargest(3).index if len(df) > 100 else df.sample(min(3, len(df))).index\n",
        "        sample_texts_for_summarization = df['text'][indices_to_summarize].tolist()\n",
        "    elif len(df) > 0 :\n",
        "         sample_texts_for_summarization = df['text'].sample(len(df)).tolist()\n",
        "\n",
        "\n",
        "    if not sample_texts_for_summarization:\n",
        "         # Fallback if no texts were selected for some reason\n",
        "        sample_texts_for_summarization = [\n",
        "            \"The company announced that its new product line, which has been in development for over two years, will finally be launched next quarter, and analysts predict it could significantly boost revenue.\",\n",
        "            \"Despite challenging market conditions and increased competition, the firm managed to achieve a modest growth in its annual profits, largely attributed to strategic cost-cutting measures and diversification of its portfolio.\",\n",
        "            \"Future outlook remains cautiously optimistic, with expectations of a gradual economic recovery and stabilization in consumer demand, although geopolitical risks still pose a considerable threat to sustained growth.\"\n",
        "        ]\n",
        "        print(\"Menggunakan contoh teks placeholder karena teks dari DataFrame tidak dapat diambil atau terlalu pendek.\")\n",
        "\n",
        "\n",
        "    for text_to_summarize in sample_texts_for_summarization:\n",
        "        # Model summarization biasanya mengharapkan teks yang tidak terlalu pendek.\n",
        "        # Jika teks terlalu pendek, hasilnya mungkin sama dengan input atau kurang bermakna.\n",
        "        # Kita bisa set min_length dan max_length. Untuk kalimat pendek, max_length harus kecil.\n",
        "        summary_result = summarizer(text_to_summarize, max_length=50, min_length=5, do_sample=False)\n",
        "        print(f\"\\nOriginal Text: {text_to_summarize}\")\n",
        "        print(f\"Summary: {summary_result[0]['summary_text']}\")\n",
        "        print(\"---\")\n",
        "\n",
        "elif not summarizer:\n",
        "    print(\"Summarizer tidak berhasil diinisialisasi.\")\n",
        "else:\n",
        "    print(\"DataFrame kosong atau tidak memiliki kolom 'text'. Pastikan data sudah dimuat dengan benar.\")"
      ],
      "metadata": {
        "colab": {
          "base_uri": "https://localhost:8080/"
        },
        "id": "nk0icaFd1uvr",
        "outputId": "ccb365e2-518a-4b68-932c-167c3904d4b9"
      },
      "execution_count": 7,
      "outputs": [
        {
          "output_type": "stream",
          "name": "stdout",
          "text": [
            "DataFrame berhasil dimuat ulang untuk summarization.\n"
          ]
        },
        {
          "output_type": "stream",
          "name": "stderr",
          "text": [
            "Device set to use cpu\n"
          ]
        },
        {
          "output_type": "stream",
          "name": "stdout",
          "text": [
            "Pipeline summarization berhasil diinisialisasi.\n",
            "\n",
            "Contoh hasil summarization dari model:\n"
          ]
        },
        {
          "output_type": "stream",
          "name": "stderr",
          "text": [
            "Both `max_new_tokens` (=256) and `max_length`(=50) seem to have been set. `max_new_tokens` will take precedence. Please refer to the documentation for more information. (https://huggingface.co/docs/transformers/main/en/main_classes/text_generation)\n"
          ]
        },
        {
          "output_type": "stream",
          "name": "stdout",
          "text": [
            "\n",
            "Original Text: Supported Nokia phones include : N96 , N95-8GB , N95 , N93-N931 , N92 , N85 , N82 , N81 , N80 , N79 , N78 , N77 , N76 , N75 , N73 , N72 , N71 , E90 , E71 , E70 , E66 , E65 , E62 , E61-E61i , E60 , E51 , E50 , Touch Xpress 5800 , 6220 Classic , 6210 Navigator , 6120 Classic , 6110 Navigator , 5700 , 5500 , 5320XM \n",
            "Summary: supported Nokia phones include N96 , N95-8GB . N95 , n93-N931 , 90 , 85 , 80 , 70 , 60 , 50 , 75 , 65 , 64 . supported phones include : touch Xpress 5800 , 6120 Classic .\n",
            "---\n"
          ]
        },
        {
          "output_type": "stream",
          "name": "stderr",
          "text": [
            "Both `max_new_tokens` (=256) and `max_length`(=50) seem to have been set. `max_new_tokens` will take precedence. Please refer to the documentation for more information. (https://huggingface.co/docs/transformers/main/en/main_classes/text_generation)\n",
            "Both `max_new_tokens` (=256) and `max_length`(=50) seem to have been set. `max_new_tokens` will take precedence. Please refer to the documentation for more information. (https://huggingface.co/docs/transformers/main/en/main_classes/text_generation)\n"
          ]
        },
        {
          "output_type": "stream",
          "name": "stdout",
          "text": [
            "\n",
            "Original Text: Our customers come from the following countries : UK , USA , Spain , France , Italy , Germany , China , Sweden , Norway , Netherlands , Austria , Belgium , Switzerland , Czech Republic , Serbia , Finland , Canada , Russia , Ukraine , Portugal , Denmark , Ireland , South Korea , Estonia and Liechtenstein \n",
            "Summary: our customers come from the following countries . UK , USA , Spain , France , Italy , Germany .\n",
            "---\n",
            "\n",
            "Original Text: Cablevision Systems Corp. CVC Their Madison Square Garden division owns and operates the New York Knickerbockers basketball team ; they also own the Madison Square Garden Arena , the New York Rangers hockey team , the New York Liberty women 's basketball team , and the Hartford Wolf Pack hockey team \n",
            "Summary: Cablevision Systems Corp. owns and operates the new york Knickerbockers basketball team . they also own the Madison Square Garden Arena , the New York Rangers hockey team , and the Hartford Wolf Pack hockey team.\n",
            "---\n"
          ]
        }
      ]
    },
    {
      "cell_type": "code",
      "source": [
        "import matplotlib.pyplot as plt\n",
        "import seaborn as sns\n",
        "\n",
        "if not df.empty and 'sentiment' in df.columns:\n",
        "    plt.figure(figsize=(8, 5))\n",
        "    sns.countplot(x='sentiment', data=df, order=df['sentiment'].value_counts().index)\n",
        "    plt.title('Distribusi Sentimen dalam Dataset')\n",
        "    plt.xlabel('Sentimen')\n",
        "    plt.ylabel('Jumlah')\n",
        "    plt.show()"
      ],
      "metadata": {
        "colab": {
          "base_uri": "https://localhost:8080/",
          "height": 487
        },
        "id": "9GQCMqdd2gSP",
        "outputId": "5ee76455-5a55-403d-c46a-606b8f6bb6aa"
      },
      "execution_count": 8,
      "outputs": [
        {
          "output_type": "display_data",
          "data": {
            "text/plain": [
              "<Figure size 800x500 with 1 Axes>"
            ],
            "image/png": "[encoded data removed]"
          },
          "metadata": {}
        }
      ]
    }
  ]
}